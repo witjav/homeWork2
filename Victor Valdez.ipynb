{
  "nbformat": 4,
  "nbformat_minor": 0,
  "metadata": {
    "colab": {
      "provenance": [],
      "toc_visible": true,
      "authorship_tag": "ABX9TyNot2OA7ttelOR9uFw4zKRU",
      "include_colab_link": true
    },
    "kernelspec": {
      "name": "python3",
      "display_name": "Python 3"
    },
    "language_info": {
      "name": "python"
    }
  },
  "cells": [
    {
      "cell_type": "markdown",
      "metadata": {
        "id": "view-in-github",
        "colab_type": "text"
      },
      "source": [
        "<a href=\"https://colab.research.google.com/github/witjav/homeWork2/blob/main/Victor%20Valdez.ipynb\" target=\"_parent\"><img src=\"https://colab.research.google.com/assets/colab-badge.svg\" alt=\"Open In Colab\"/></a>"
      ]
    },
    {
      "cell_type": "markdown",
      "source": [
        "#Begin"
      ],
      "metadata": {
        "id": "ZpwDg9Fq9Fg0"
      }
    },
    {
      "cell_type": "code",
      "source": [
        "#Begin 01 / 02\n",
        "\n",
        "a = int(input(\"Введите сторону квадрата (a): \"))\n",
        "P = 4*a\n",
        "S = a**2\n",
        "print(\"Периметр квадрата P: \", P)\n",
        "print(\"Площадь квадрата S: \", S)"
      ],
      "metadata": {
        "colab": {
          "base_uri": "https://localhost:8080/"
        },
        "id": "a2IgwUTsuxWj",
        "outputId": "86ef5795-ae20-4d8a-bc95-31a63eef7678"
      },
      "execution_count": 15,
      "outputs": [
        {
          "output_type": "stream",
          "name": "stdout",
          "text": [
            "Введите сторону квадрата (a): 5\n",
            "Периметр квадрата P:  20\n",
            "Площадь квадрата S:  25\n"
          ]
        }
      ]
    },
    {
      "cell_type": "code",
      "execution_count": 16,
      "metadata": {
        "colab": {
          "base_uri": "https://localhost:8080/"
        },
        "id": "V5H0AzD3lqsN",
        "outputId": "30e455e2-9631-4701-bb79-368bd3142718"
      },
      "outputs": [
        {
          "output_type": "stream",
          "name": "stdout",
          "text": [
            "Введите сторону квадрата (a): 5\n",
            "Периметр квадрата P:  20\n"
          ]
        }
      ],
      "source": [
        "#Begin01\n",
        "a = int(input(\"Введите сторону квадрата (a): \"))\n",
        "P = 4*a\n",
        "print(\"Периметр квадрата P: \", P)"
      ]
    },
    {
      "cell_type": "code",
      "source": [
        "#Begin02\n",
        "a=int(input(\"Введите сторону квадрата (a): \"))\n",
        "S = a*a\n",
        "print(\"Площадь квадрата S: \", S)\n"
      ],
      "metadata": {
        "colab": {
          "base_uri": "https://localhost:8080/"
        },
        "id": "2Go5HD-8qIHa",
        "outputId": "7f6a67fc-db95-4543-a352-4174c3d0c2d5"
      },
      "execution_count": 39,
      "outputs": [
        {
          "output_type": "stream",
          "name": "stdout",
          "text": [
            "Введите сторону квадрата (a): 2\n",
            "Площадь квадрата S:  4\n"
          ]
        }
      ]
    },
    {
      "cell_type": "code",
      "source": [
        "#Begin03\n",
        "a = int(input(\"Введите сторону a квадрата: \"))\n",
        "print(\"Стороны прямоугольника\")\n",
        "print(\"a = \", a)\n",
        "b = int(input(\"Введите сторону b квадрата: \"))\n",
        "print(\"b = \", b)\n",
        "S = a * b\n",
        "print(\"Площадь прямоугольника S = \", S)\n",
        "P = 2 * (a + b)\n",
        "print(\"Периметр прямоугольника P = \", P)"
      ],
      "metadata": {
        "colab": {
          "base_uri": "https://localhost:8080/"
        },
        "id": "uBZeLsJZqhQm",
        "outputId": "5d217fd2-3932-4d62-8319-9505e85b9266"
      },
      "execution_count": 33,
      "outputs": [
        {
          "output_type": "stream",
          "name": "stdout",
          "text": [
            "Введите сторону a квадрата: 3\n",
            "Стороны прямоугольника\n",
            "a =  3\n",
            "Введите сторону b квадрата: 3\n",
            "b =  3\n",
            "Площадь прямоугольника S =  9\n",
            "Периметр прямоугольника P =  12\n"
          ]
        }
      ]
    },
    {
      "cell_type": "code",
      "source": [
        "#Begin04\n",
        "import math\n",
        "import random\n",
        "\n",
        "d = random.randrange(1,10)\n",
        "print(\"Диаметр окружности d = \", d)\n",
        "print(\"Пи = \", math.pi)\n",
        "L = math.pi * d\n",
        "print(\"Длина окружности L = \", L)"
      ],
      "metadata": {
        "colab": {
          "base_uri": "https://localhost:8080/"
        },
        "id": "9c-jWOy0qvIy",
        "outputId": "5508f310-33a7-4b8c-c620-d52d802623d8"
      },
      "execution_count": 17,
      "outputs": [
        {
          "output_type": "stream",
          "name": "stdout",
          "text": [
            "Диаметр окружности d =  3\n",
            "Пи =  3.141592653589793\n",
            "Длина окружности L =  9.42477796076938\n"
          ]
        }
      ]
    },
    {
      "cell_type": "code",
      "source": [
        "#Begin05\n",
        "import random\n",
        "\n",
        "a = random.randrange(1,10)\n",
        "print(\"Ребро куба: \", a)\n",
        "V = a**3\n",
        "print(\"Объем: \", V)\n",
        "S = 6 * a**2\n",
        "print(\"Площадь поверхности: \", S)"
      ],
      "metadata": {
        "colab": {
          "base_uri": "https://localhost:8080/"
        },
        "id": "cRrQ1aT7spAX",
        "outputId": "30c73791-5d7c-4f1e-fe74-3f8948e351fc"
      },
      "execution_count": 22,
      "outputs": [
        {
          "output_type": "stream",
          "name": "stdout",
          "text": [
            "Ребро куба:  8\n",
            "Объем:  512\n",
            "Площадь поверхности:  384\n"
          ]
        }
      ]
    },
    {
      "cell_type": "markdown",
      "source": [
        "#Integer"
      ],
      "metadata": {
        "id": "77Qk1pFX9PDE"
      }
    },
    {
      "cell_type": "code",
      "source": [
        "#Integer01\n",
        "L = int(input(\"Введите расстояние в сантиметрах (L): \"))\n",
        "m = int(L / 100)\n",
        "print(\"Количество полных метров: \", m)"
      ],
      "metadata": {
        "colab": {
          "base_uri": "https://localhost:8080/",
          "height": 347
        },
        "id": "pSwvSRWvyRH7",
        "outputId": "5761fe17-96e2-4ea7-af1a-a59ecaca188e"
      },
      "execution_count": 40,
      "outputs": [
        {
          "output_type": "error",
          "ename": "KeyboardInterrupt",
          "evalue": "Interrupted by user",
          "traceback": [
            "\u001b[0;31m---------------------------------------------------------------------------\u001b[0m",
            "\u001b[0;31mKeyboardInterrupt\u001b[0m                         Traceback (most recent call last)",
            "\u001b[0;32m<ipython-input-40-7c7fe7410c20>\u001b[0m in \u001b[0;36m<cell line: 0>\u001b[0;34m()\u001b[0m\n\u001b[1;32m      1\u001b[0m \u001b[0;31m#Integer01\u001b[0m\u001b[0;34m\u001b[0m\u001b[0;34m\u001b[0m\u001b[0m\n\u001b[0;32m----> 2\u001b[0;31m \u001b[0mL\u001b[0m \u001b[0;34m=\u001b[0m \u001b[0mint\u001b[0m\u001b[0;34m(\u001b[0m\u001b[0minput\u001b[0m\u001b[0;34m(\u001b[0m\u001b[0;34m\"Введите расстояние в сантиметрах (L): \"\u001b[0m\u001b[0;34m)\u001b[0m\u001b[0;34m)\u001b[0m\u001b[0;34m\u001b[0m\u001b[0;34m\u001b[0m\u001b[0m\n\u001b[0m\u001b[1;32m      3\u001b[0m \u001b[0mm\u001b[0m \u001b[0;34m=\u001b[0m \u001b[0mint\u001b[0m\u001b[0;34m(\u001b[0m\u001b[0mL\u001b[0m \u001b[0;34m/\u001b[0m \u001b[0;36m100\u001b[0m\u001b[0;34m)\u001b[0m\u001b[0;34m\u001b[0m\u001b[0;34m\u001b[0m\u001b[0m\n\u001b[1;32m      4\u001b[0m \u001b[0mprint\u001b[0m\u001b[0;34m(\u001b[0m\u001b[0;34m\"Количество полных метров: \"\u001b[0m\u001b[0;34m,\u001b[0m \u001b[0mm\u001b[0m\u001b[0;34m)\u001b[0m\u001b[0;34m\u001b[0m\u001b[0;34m\u001b[0m\u001b[0m\n",
            "\u001b[0;32m/usr/local/lib/python3.11/dist-packages/ipykernel/kernelbase.py\u001b[0m in \u001b[0;36mraw_input\u001b[0;34m(self, prompt)\u001b[0m\n\u001b[1;32m   1175\u001b[0m                 \u001b[0;34m\"raw_input was called, but this frontend does not support input requests.\"\u001b[0m\u001b[0;34m\u001b[0m\u001b[0;34m\u001b[0m\u001b[0m\n\u001b[1;32m   1176\u001b[0m             )\n\u001b[0;32m-> 1177\u001b[0;31m         return self._input_request(\n\u001b[0m\u001b[1;32m   1178\u001b[0m             \u001b[0mstr\u001b[0m\u001b[0;34m(\u001b[0m\u001b[0mprompt\u001b[0m\u001b[0;34m)\u001b[0m\u001b[0;34m,\u001b[0m\u001b[0;34m\u001b[0m\u001b[0;34m\u001b[0m\u001b[0m\n\u001b[1;32m   1179\u001b[0m             \u001b[0mself\u001b[0m\u001b[0;34m.\u001b[0m\u001b[0m_parent_ident\u001b[0m\u001b[0;34m[\u001b[0m\u001b[0;34m\"shell\"\u001b[0m\u001b[0;34m]\u001b[0m\u001b[0;34m,\u001b[0m\u001b[0;34m\u001b[0m\u001b[0;34m\u001b[0m\u001b[0m\n",
            "\u001b[0;32m/usr/local/lib/python3.11/dist-packages/ipykernel/kernelbase.py\u001b[0m in \u001b[0;36m_input_request\u001b[0;34m(self, prompt, ident, parent, password)\u001b[0m\n\u001b[1;32m   1217\u001b[0m             \u001b[0;32mexcept\u001b[0m \u001b[0mKeyboardInterrupt\u001b[0m\u001b[0;34m:\u001b[0m\u001b[0;34m\u001b[0m\u001b[0;34m\u001b[0m\u001b[0m\n\u001b[1;32m   1218\u001b[0m                 \u001b[0;31m# re-raise KeyboardInterrupt, to truncate traceback\u001b[0m\u001b[0;34m\u001b[0m\u001b[0;34m\u001b[0m\u001b[0m\n\u001b[0;32m-> 1219\u001b[0;31m                 \u001b[0;32mraise\u001b[0m \u001b[0mKeyboardInterrupt\u001b[0m\u001b[0;34m(\u001b[0m\u001b[0;34m\"Interrupted by user\"\u001b[0m\u001b[0;34m)\u001b[0m \u001b[0;32mfrom\u001b[0m \u001b[0;32mNone\u001b[0m\u001b[0;34m\u001b[0m\u001b[0;34m\u001b[0m\u001b[0m\n\u001b[0m\u001b[1;32m   1220\u001b[0m             \u001b[0;32mexcept\u001b[0m \u001b[0mException\u001b[0m\u001b[0;34m:\u001b[0m\u001b[0;34m\u001b[0m\u001b[0;34m\u001b[0m\u001b[0m\n\u001b[1;32m   1221\u001b[0m                 \u001b[0mself\u001b[0m\u001b[0;34m.\u001b[0m\u001b[0mlog\u001b[0m\u001b[0;34m.\u001b[0m\u001b[0mwarning\u001b[0m\u001b[0;34m(\u001b[0m\u001b[0;34m\"Invalid Message:\"\u001b[0m\u001b[0;34m,\u001b[0m \u001b[0mexc_info\u001b[0m\u001b[0;34m=\u001b[0m\u001b[0;32mTrue\u001b[0m\u001b[0;34m)\u001b[0m\u001b[0;34m\u001b[0m\u001b[0;34m\u001b[0m\u001b[0m\n",
            "\u001b[0;31mKeyboardInterrupt\u001b[0m: Interrupted by user"
          ]
        }
      ]
    },
    {
      "cell_type": "code",
      "source": [
        "#Integer02\n",
        "M = int(input(\"Введите массу в килограммах (M): \"))\n",
        "m = int(M / 1000)\n",
        "print(\"Количество полных тонн: \", m)"
      ],
      "metadata": {
        "id": "lR8YF9Kcyctp"
      },
      "execution_count": null,
      "outputs": []
    },
    {
      "cell_type": "code",
      "source": [
        "#Integer3\n",
        "import random\n",
        "\n",
        "s = random.randrange(1,1000000)\n",
        "print(\"Размер файла в байтах: \", s)\n",
        "print(\"Количество полных килобайтов: \", int(s / 1024))"
      ],
      "metadata": {
        "id": "IS4wjevhy0jM"
      },
      "execution_count": null,
      "outputs": []
    },
    {
      "cell_type": "code",
      "source": [
        "#Integer04\n",
        "import random\n",
        "\n",
        "A = random.randrange(1,100)\n",
        "B = random.randrange(1,A)\n",
        "print(\"A = \", A)\n",
        "print(\"B = \", B)\n",
        "x = int(A/B)\n",
        "print(\"Количество полных B в A: \", x)"
      ],
      "metadata": {
        "id": "jePT6GRTy5gP"
      },
      "execution_count": null,
      "outputs": []
    },
    {
      "cell_type": "code",
      "source": [
        "#Integer5\n",
        "import random\n",
        "\n",
        "A = random.randrange(1,100)\n",
        "B = random.randrange(1,A)\n",
        "print(\"A = \", A)\n",
        "print(\"B = \", B)\n",
        "x = A%B\n",
        "print(\"Длина незанятой части отрезка A: \", x)"
      ],
      "metadata": {
        "id": "rf-tFa5gzCTL"
      },
      "execution_count": null,
      "outputs": []
    },
    {
      "cell_type": "markdown",
      "source": [
        "#Boolean"
      ],
      "metadata": {
        "id": "42lDyyyW9Zh6"
      }
    },
    {
      "cell_type": "code",
      "source": [
        "#Boolean01\n",
        "A = float(input(\"Введите число (A): \"))\n",
        "print(\"Число положительно: \",A > 0)"
      ],
      "metadata": {
        "colab": {
          "base_uri": "https://localhost:8080/"
        },
        "id": "xxfP_4W6zzRD",
        "outputId": "76e7be09-f92a-42c0-9d6b-99211eb2324b"
      },
      "execution_count": 26,
      "outputs": [
        {
          "output_type": "stream",
          "name": "stdout",
          "text": [
            "Введите число (A): 5\n",
            "Число положительно:  True\n"
          ]
        }
      ]
    },
    {
      "cell_type": "code",
      "source": [
        "#Boolean02\n",
        "A = float(input(\"Введите число (A): \"))\n",
        "x = A % 2\n",
        "print(\"Число нечетно: \",x == 1)"
      ],
      "metadata": {
        "colab": {
          "base_uri": "https://localhost:8080/"
        },
        "id": "eFUSRwxPz0be",
        "outputId": "c52cf954-c63d-4d3e-961a-1a6b17fb0e6b"
      },
      "execution_count": 28,
      "outputs": [
        {
          "output_type": "stream",
          "name": "stdout",
          "text": [
            "Введите число (A): 4\n",
            "Число нечетно:  False\n"
          ]
        }
      ]
    },
    {
      "cell_type": "code",
      "source": [
        "#Boolean03\n",
        "A=int(input())\n",
        "print(A)\n",
        "x = A % 2\n",
        "print(\"Число четно: \", x == 0)\n"
      ],
      "metadata": {
        "id": "Tew60Ft40Vj0"
      },
      "execution_count": null,
      "outputs": []
    },
    {
      "cell_type": "code",
      "source": [
        "#Boolean04\n",
        "import random\n",
        "A = random.randrange(-10,10)\n",
        "B = random.randrange(-10,10)\n",
        "print(\"A = \", A)\n",
        "print(\"B = \", B)\n",
        "x = (A>2) and (B<=3)\n",
        "print(\"A > 2: \", (A>2))\n",
        "print(\"B <=3: \", (B<=3))\n",
        "print(\"A > 2 и B <=3: \", x)"
      ],
      "metadata": {
        "id": "bVBR8PpL1Q5L"
      },
      "execution_count": null,
      "outputs": []
    },
    {
      "cell_type": "code",
      "source": [
        "#Boolean05\n",
        "import random\n",
        "A = random.randrange(-10,10)\n",
        "B = random.randrange(-10,10)\n",
        "print(\"A = \", A)\n",
        "print(\"B = \", B)\n",
        "x = (A>=0) or (B<-2)\n",
        "print(\"A >= 0: \", (A>=0))\n",
        "print(\"B < -2: \", (B<-2))\n",
        "print(\"A>=0 или B<-2: \", x)"
      ],
      "metadata": {
        "colab": {
          "base_uri": "https://localhost:8080/"
        },
        "id": "IByVeKHd1Z-K",
        "outputId": "fb0f85dc-27cf-4f8f-827b-9cecf43ce6ea"
      },
      "execution_count": 30,
      "outputs": [
        {
          "output_type": "stream",
          "name": "stdout",
          "text": [
            "A =  6\n",
            "B =  7\n",
            "A >= 0:  True\n",
            "B < -2:  False\n",
            "A>=0 или B<-2:  True\n"
          ]
        }
      ]
    },
    {
      "cell_type": "markdown",
      "source": [
        "#If"
      ],
      "metadata": {
        "id": "sbFe1tDw_f0b"
      }
    },
    {
      "cell_type": "code",
      "source": [
        "#If01\n",
        "A = int(input(\"Введите число: \"))\n",
        "\n",
        "if A > 0:\n",
        "    A += 1\n",
        "\n",
        "print(A)"
      ],
      "metadata": {
        "colab": {
          "base_uri": "https://localhost:8080/"
        },
        "id": "F8sak50a3yo3",
        "outputId": "7bda183b-e13c-4683-f769-e54deb309028"
      },
      "execution_count": 37,
      "outputs": [
        {
          "output_type": "stream",
          "name": "stdout",
          "text": [
            "Введите число: -9\n",
            "-9\n"
          ]
        }
      ]
    },
    {
      "cell_type": "code",
      "source": [
        "#If02\n",
        "A = int(input(\"Введите число: \"))\n",
        "\n",
        "if A > 0:\n",
        "    A += 1\n",
        "else:\n",
        "    A -= 2\n",
        "\n",
        "print(A)"
      ],
      "metadata": {
        "colab": {
          "base_uri": "https://localhost:8080/"
        },
        "id": "rEWw8toB65PO",
        "outputId": "5bd49982-9ed1-4f11-cda4-21a76e8a7b28"
      },
      "execution_count": 38,
      "outputs": [
        {
          "output_type": "stream",
          "name": "stdout",
          "text": [
            "Введите число: -9\n",
            "-11\n"
          ]
        }
      ]
    },
    {
      "cell_type": "code",
      "source": [
        "#If03\n",
        "import random\n",
        "\n",
        "A = random.randrange(-3,3)\n",
        "print(\"Число:\", A)\n",
        "\n",
        "if A > 0:\n",
        "    A += 1\n",
        "elif A < 0:\n",
        "    A -=2\n",
        "else:\n",
        "    A = 10\n",
        "\n",
        "print(A)"
      ],
      "metadata": {
        "colab": {
          "base_uri": "https://localhost:8080/"
        },
        "id": "_X7cgRI967dq",
        "outputId": "dc827bd6-1067-4210-bc2e-ec5eb5d7c4c1"
      },
      "execution_count": 41,
      "outputs": [
        {
          "output_type": "stream",
          "name": "stdout",
          "text": [
            "Число: -1\n",
            "-3\n"
          ]
        }
      ]
    },
    {
      "cell_type": "code",
      "source": [
        "#If04\n",
        "import random\n",
        "\n",
        "A = random.randrange(-3,3)\n",
        "B = random.randrange(-3,3)\n",
        "C = random.randrange(-3,3)\n",
        "print(\"Три числа:\", A, B, C)\n",
        "\n",
        "x = 0\n",
        "if A > 0:\n",
        "    x += 1\n",
        "if B > 0:\n",
        "    x += 1\n",
        "if C > 0:\n",
        "    x += 1\n",
        "\n",
        "print(\"Количество положительных чисел: \", x)"
      ],
      "metadata": {
        "id": "WE9nUQEG74dS"
      },
      "execution_count": null,
      "outputs": []
    },
    {
      "cell_type": "code",
      "source": [
        "#If05\n",
        "\n",
        "A = int(input(\"Введите первое число: \"))\n",
        "B = int(input(\"Введите второе число: \"))\n",
        "C = int(input(\"Введите третье число: \"))\n",
        "\n",
        "print(\"Три числа:\", A, B, C)\n",
        "\n",
        "x = 0\n",
        "if A > 0:\n",
        "    x += 1\n",
        "if B > 0:\n",
        "    x += 1\n",
        "if C > 0:\n",
        "    x += 1\n",
        "print(\"Количество положительных чисел: \", x)\n",
        "\n",
        "y = 0\n",
        "if A < 0:\n",
        "    y += 1\n",
        "if B < 0:\n",
        "    y += 1\n",
        "if C < 0:\n",
        "    y += 1\n",
        "print(\"Количество отрицательных чисел: \", y)"
      ],
      "metadata": {
        "colab": {
          "base_uri": "https://localhost:8080/"
        },
        "id": "vJ6A8wu3-4cv",
        "outputId": "3d3f4c76-3f79-4bf0-8402-9bbf61a746f3"
      },
      "execution_count": 45,
      "outputs": [
        {
          "output_type": "stream",
          "name": "stdout",
          "text": [
            "Введите первый номер: 2\n",
            "Введите второй номер: -7\n",
            "Введите третий номер: -4\n",
            "Три числа: 2 -7 -4\n",
            "Количество положительных чисел:  1\n",
            "Количество отрицательных чисел:  2\n"
          ]
        }
      ]
    },
    {
      "cell_type": "markdown",
      "source": [
        "#Case"
      ],
      "metadata": {
        "id": "ffJtpxFQ_p3d"
      }
    },
    {
      "cell_type": "code",
      "source": [
        "#Case1\n"
      ],
      "metadata": {
        "id": "dILzdTo__ArP"
      },
      "execution_count": null,
      "outputs": []
    },
    {
      "cell_type": "code",
      "source": [
        "#Case2\n"
      ],
      "metadata": {
        "id": "lKJuvNVT_Cjz"
      },
      "execution_count": null,
      "outputs": []
    },
    {
      "cell_type": "code",
      "source": [
        "#Case3\n"
      ],
      "metadata": {
        "id": "izmK_b4Y_D2h"
      },
      "execution_count": null,
      "outputs": []
    },
    {
      "cell_type": "code",
      "source": [
        "#Case4\n"
      ],
      "metadata": {
        "id": "57r1TnVS_FkI"
      },
      "execution_count": null,
      "outputs": []
    },
    {
      "cell_type": "code",
      "source": [
        "#Case5\n"
      ],
      "metadata": {
        "id": "VqK2vmwo_Gy9"
      },
      "execution_count": null,
      "outputs": []
    },
    {
      "cell_type": "markdown",
      "source": [
        "#For"
      ],
      "metadata": {
        "id": "2rs-Iy9d_vhL"
      }
    },
    {
      "cell_type": "code",
      "source": [
        "#For1\n"
      ],
      "metadata": {
        "id": "7w3BNIog_Iqr"
      },
      "execution_count": null,
      "outputs": []
    },
    {
      "cell_type": "code",
      "source": [
        "#For2\n"
      ],
      "metadata": {
        "id": "F-eFMX5__Nr2"
      },
      "execution_count": null,
      "outputs": []
    },
    {
      "cell_type": "code",
      "source": [
        "#For3\n"
      ],
      "metadata": {
        "id": "EcuejYQ9_PLB"
      },
      "execution_count": null,
      "outputs": []
    },
    {
      "cell_type": "code",
      "source": [
        "#For4\n"
      ],
      "metadata": {
        "id": "xbJDi9WX_Qf3"
      },
      "execution_count": null,
      "outputs": []
    },
    {
      "cell_type": "code",
      "source": [
        "#For5\n"
      ],
      "metadata": {
        "id": "7sqp15ms_SW_"
      },
      "execution_count": null,
      "outputs": []
    }
  ]
}